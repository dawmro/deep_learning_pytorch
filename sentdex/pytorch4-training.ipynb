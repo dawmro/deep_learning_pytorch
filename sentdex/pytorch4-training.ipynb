{
 "cells": [
  {
   "cell_type": "code",
   "execution_count": 236,
   "id": "49375755-b5d4-4600-be65-be6a44ee538f",
   "metadata": {},
   "outputs": [],
   "source": [
    "# TODO building neural network\n",
    "\n",
    "import torch\n",
    "import torchvision\n",
    "from torchvision import transforms, datasets\n",
    "\n",
    "train = datasets.MNIST(\"\", train=True, download=True, transform = transforms.Compose([transforms.ToTensor()]))\n",
    "test = datasets.MNIST(\"\", train=False, download=True, transform = transforms.Compose([transforms.ToTensor()]))\n",
    "\n",
    "trainset = torch.utils.data.DataLoader(train, batch_size=10, shuffle=True)\n",
    "testset = torch.utils.data.DataLoader(train, batch_size=10, shuffle=True)"
   ]
  },
  {
   "cell_type": "code",
   "execution_count": 237,
   "id": "7e4c68d4-68b1-41aa-9863-31135b77f403",
   "metadata": {},
   "outputs": [],
   "source": [
    "import torch.nn as nn\n",
    "import torch.nn.functional as F"
   ]
  },
  {
   "cell_type": "code",
   "execution_count": 238,
   "id": "3134620c-7a03-4448-8764-15dc2ef1456c",
   "metadata": {},
   "outputs": [
    {
     "name": "stdout",
     "output_type": "stream",
     "text": [
      "Model's state_dict:\n",
      "fc1.weight \t torch.Size([64, 784])\n",
      "fc1.bias \t torch.Size([64])\n",
      "fc2.weight \t torch.Size([64, 64])\n",
      "fc2.bias \t torch.Size([64])\n",
      "fc3.weight \t torch.Size([64, 64])\n",
      "fc3.bias \t torch.Size([64])\n",
      "fc4.weight \t torch.Size([10, 64])\n",
      "fc4.bias \t torch.Size([10])\n",
      "Optimizer's state_dict:\n",
      "state \t {}\n",
      "param_groups \t [{'lr': 0.001, 'betas': (0.9, 0.999), 'eps': 1e-08, 'weight_decay': 0, 'amsgrad': False, 'maximize': False, 'foreach': None, 'capturable': False, 'differentiable': False, 'fused': None, 'params': [0, 1, 2, 3, 4, 5, 6, 7]}]\n",
      "Net(\n",
      "  (fc1): Linear(in_features=784, out_features=64, bias=True)\n",
      "  (fc2): Linear(in_features=64, out_features=64, bias=True)\n",
      "  (fc3): Linear(in_features=64, out_features=64, bias=True)\n",
      "  (fc4): Linear(in_features=64, out_features=10, bias=True)\n",
      ")\n"
     ]
    }
   ],
   "source": [
    "class Net(nn.Module):\n",
    "    def __init__(self):\n",
    "        super(Net, self).__init__()\n",
    "        self.fc1 = nn.Linear(28*28, 64)\n",
    "        self.fc2 = nn.Linear(64, 64)\n",
    "        self.fc3 = nn.Linear(64, 64)\n",
    "        self.fc4 = nn.Linear(64, 10)\n",
    "\n",
    "    def forward(self, x):\n",
    "        x = F.relu(self.fc1(x))\n",
    "        x = F.relu(self.fc2(x))\n",
    "        x = F.relu(self.fc3(x))\n",
    "        x = self.fc4(x)\n",
    "        return F.log_softmax(x, dim=1)\n",
    "        \n",
    "# Initialize model\n",
    "net = Net()\n",
    "\n",
    "# Initialize optimizer\n",
    "import torch.optim as optim\n",
    "optimizer = optim.Adam(net.parameters(), lr=0.001)\n",
    "\n",
    "# Print model's state_dict\n",
    "print(\"Model's state_dict:\")\n",
    "for param_tensor in net.state_dict():\n",
    "    print(param_tensor, \"\\t\", net.state_dict()[param_tensor].size())\n",
    "\n",
    "# Print optimizer's state_dict\n",
    "print(\"Optimizer's state_dict:\")\n",
    "for var_name in optimizer.state_dict():\n",
    "    print(var_name, \"\\t\", optimizer.state_dict()[var_name])\n",
    "\n",
    "\n",
    "print(net)"
   ]
  },
  {
   "cell_type": "code",
   "execution_count": 239,
   "id": "e45c5c67-6bd0-40e4-939a-848d8685e28b",
   "metadata": {},
   "outputs": [
    {
     "name": "stdout",
     "output_type": "stream",
     "text": [
      "tensor(0.1540, grad_fn=<NllLossBackward0>)\n",
      "tensor(0.2752, grad_fn=<NllLossBackward0>)\n",
      "tensor(0.0816, grad_fn=<NllLossBackward0>)\n",
      "tensor(0.0048, grad_fn=<NllLossBackward0>)\n",
      "tensor(0.0144, grad_fn=<NllLossBackward0>)\n",
      "tensor(0.0021, grad_fn=<NllLossBackward0>)\n",
      "tensor(0.0004, grad_fn=<NllLossBackward0>)\n",
      "tensor(0.0016, grad_fn=<NllLossBackward0>)\n",
      "tensor(0.0009, grad_fn=<NllLossBackward0>)\n",
      "tensor(1.1002e-05, grad_fn=<NllLossBackward0>)\n"
     ]
    }
   ],
   "source": [
    "\n",
    "\n",
    "EPOCHS = 10\n",
    "\n",
    "for epoch in range(EPOCHS):\n",
    "    for data in trainset:\n",
    "        X, y = data\n",
    "        net.zero_grad()\n",
    "        output = net(X.view(-1, 28*28))\n",
    "        loss = F.nll_loss(output, y)\n",
    "        loss.backward()\n",
    "        optimizer.step()\n",
    "    print(loss)"
   ]
  },
  {
   "cell_type": "code",
   "execution_count": 240,
   "id": "d6a1935f-a095-4138-bc56-db30d32f140b",
   "metadata": {},
   "outputs": [
    {
     "name": "stdout",
     "output_type": "stream",
     "text": [
      "Accuracy:  0.991\n"
     ]
    }
   ],
   "source": [
    "# check how good is network\n",
    "correct = 0\n",
    "total = 0\n",
    "\n",
    "with torch.no_grad():\n",
    "    for data in trainset:\n",
    "        X, y = data\n",
    "        output = net(X.view(-1, 28*28))\n",
    "        for idx, i in enumerate(output):\n",
    "            if torch.argmax(i) == y[idx]:\n",
    "                correct += 1\n",
    "            total += 1\n",
    "\n",
    "print(\"Accuracy: \", round(correct/total, 3))"
   ]
  },
  {
   "cell_type": "code",
   "execution_count": 241,
   "id": "e7af0c12-d915-439d-a280-943e9dee1a4e",
   "metadata": {},
   "outputs": [],
   "source": [
    "# save model to disk\n",
    "import time\n",
    "PATH = f\"MNIST_trained_model-{EPOCHS}_epochs-{int(time.time())}\"\n",
    "torch.save(net.state_dict(), PATH)"
   ]
  },
  {
   "cell_type": "code",
   "execution_count": 242,
   "id": "92d04d40-b8b8-4ba9-b6ff-a1f96a409127",
   "metadata": {},
   "outputs": [
    {
     "data": {
      "text/plain": [
       "Net(\n",
       "  (fc1): Linear(in_features=784, out_features=64, bias=True)\n",
       "  (fc2): Linear(in_features=64, out_features=64, bias=True)\n",
       "  (fc3): Linear(in_features=64, out_features=64, bias=True)\n",
       "  (fc4): Linear(in_features=64, out_features=10, bias=True)\n",
       ")"
      ]
     },
     "execution_count": 242,
     "metadata": {},
     "output_type": "execute_result"
    }
   ],
   "source": [
    "net = Net()\n",
    "MODEL_NAME = \"MNIST_trained_model-10_epochs-1718478650\"\n",
    "net.load_state_dict(torch.load(MODEL_NAME))\n",
    "net.eval()"
   ]
  },
  {
   "cell_type": "code",
   "execution_count": 243,
   "id": "6f3ab926-fd43-4af2-9fca-9128e164658c",
   "metadata": {},
   "outputs": [
    {
     "data": {
      "image/png": "[encoded data removed]",
      "text/plain": [
       "<Figure size 640x480 with 1 Axes>"
      ]
     },
     "metadata": {},
     "output_type": "display_data"
    }
   ],
   "source": [
    "import matplotlib.pyplot as plt\n",
    "plt.imshow(X[0].view(28,28))\n",
    "plt.show()\n",
    "           "
   ]
  },
  {
   "cell_type": "code",
   "execution_count": 244,
   "id": "43bef8c7-cbc2-48e9-86ad-600a96772cb5",
   "metadata": {},
   "outputs": [
    {
     "name": "stdout",
     "output_type": "stream",
     "text": [
      "tensor(0)\n"
     ]
    }
   ],
   "source": [
    "print(torch.argmax(net(X[0].view(-1, 28*28))[0]))"
   ]
  },
  {
   "cell_type": "code",
   "execution_count": 245,
   "id": "f8479846-1b6b-4d27-a5f2-7fe560e4a173",
   "metadata": {},
   "outputs": [
    {
     "name": "stdout",
     "output_type": "stream",
     "text": [
      "Output tensor: tensor([[ -0.1920, -12.0579,  -2.2811,  -2.7866,  -5.6787, -12.7267, -15.4410,\n",
      "          -7.4496,  -6.6471,  -5.1897]], grad_fn=<LogSoftmaxBackward0>)\n",
      "Predicted probability distribution: [[ -0.1919879 -12.057859   -2.2811012  -2.786586   -5.6786537 -12.726727\n",
      "  -15.441033   -7.449615   -6.6471076  -5.189708 ]]\n",
      "0: Predicted class index: 0\n",
      "\n",
      "Output tensor: tensor([[-22.4134,  -0.8600,  -0.5572, -12.5345,  -9.6482, -19.0154, -16.7349,\n",
      "          -5.5337, -14.3450, -17.0296]], grad_fn=<LogSoftmaxBackward0>)\n",
      "Predicted probability distribution: [[-22.413433    -0.86003834  -0.55715954 -12.534548    -9.648236\n",
      "  -19.015423   -16.734943    -5.533681   -14.345042   -17.029644  ]]\n",
      "1: Predicted class index: 2\n",
      "\n",
      "Output tensor: tensor([[-43.0574, -24.5327,   0.0000, -21.4490, -30.9988, -49.5364, -50.5423,\n",
      "         -26.9539, -37.9228, -50.7244]], grad_fn=<LogSoftmaxBackward0>)\n",
      "Predicted probability distribution: [[-43.057426 -24.532717   0.       -21.449028 -30.998838 -49.536354\n",
      "  -50.542267 -26.953863 -37.9228   -50.724403]]\n",
      "2: Predicted class index: 2\n",
      "\n",
      "Output tensor: tensor([[-12.5909, -12.3793,  -2.3555,  -0.1002, -19.2190,  -8.1249, -21.0893,\n",
      "         -10.7305,  -8.5159, -19.2322]], grad_fn=<LogSoftmaxBackward0>)\n",
      "Predicted probability distribution: [[-12.590919   -12.379347    -2.3554516   -0.10023645 -19.218967\n",
      "   -8.124902   -21.089258   -10.73048     -8.5158615  -19.23218   ]]\n",
      "3: Predicted class index: 3\n",
      "\n",
      "Output tensor: tensor([[-2.6429e+01, -2.3240e+01, -1.3020e+01, -3.6100e+01, -3.2186e-06,\n",
      "         -2.7850e+01, -2.3231e+01, -1.3871e+01, -2.3297e+01, -2.2505e+01]],\n",
      "       grad_fn=<LogSoftmaxBackward0>)\n",
      "Predicted probability distribution: [[-2.6428967e+01 -2.3240246e+01 -1.3019649e+01 -3.6099953e+01\n",
      "  -3.2186456e-06 -2.7850433e+01 -2.3231241e+01 -1.3870612e+01\n",
      "  -2.3297220e+01 -2.2504837e+01]]\n",
      "4: Predicted class index: 4\n",
      "\n",
      "Output tensor: tensor([[-11.8219,  -8.5030,  -6.0499,  -6.4485, -17.1049,  -0.0536,  -5.2208,\n",
      "         -17.9508,  -3.1543, -21.9479]], grad_fn=<LogSoftmaxBackward0>)\n",
      "Predicted probability distribution: [[-11.821893    -8.50296     -6.049932    -6.4485407  -17.104885\n",
      "   -0.05363506  -5.2208257  -17.95075     -3.1543036  -21.94789   ]]\n",
      "5: Predicted class index: 5\n",
      "\n",
      "Output tensor: tensor([[-23.3410, -12.5287,  -7.3362,  -1.7370, -20.4122,  -3.3570, -18.0036,\n",
      "         -18.2097,  -0.2377, -19.5372]], grad_fn=<LogSoftmaxBackward0>)\n",
      "Predicted probability distribution: [[-23.341      -12.528701    -7.3361607   -1.736957   -20.412205\n",
      "   -3.357008   -18.003632   -18.209694    -0.23768611 -19.537218  ]]\n",
      "6: Predicted class index: 8\n",
      "\n",
      "Output tensor: tensor([[-1.4176e+01, -9.6291e+00, -5.7325e+00, -1.7420e-02, -1.2563e+01,\n",
      "         -9.5009e+00, -2.2002e+01, -4.7504e+00, -5.2537e+00, -1.1597e+01]],\n",
      "       grad_fn=<LogSoftmaxBackward0>)\n",
      "Predicted probability distribution: [[-1.4176332e+01 -9.6291351e+00 -5.7324533e+00 -1.7420262e-02\n",
      "  -1.2563271e+01 -9.5009441e+00 -2.2001888e+01 -4.7503972e+00\n",
      "  -5.2537246e+00 -1.1597305e+01]]\n",
      "7: Predicted class index: 3\n",
      "\n",
      "Output tensor: tensor([[-1.5651e+01, -1.3095e+01, -1.6037e+01, -1.4139e+01, -2.6195e+01,\n",
      "         -1.9126e+01, -2.5491e+01, -2.7474e+01, -2.9802e-06, -1.9510e+01]],\n",
      "       grad_fn=<LogSoftmaxBackward0>)\n",
      "Predicted probability distribution: [[-1.5650985e+01 -1.3095052e+01 -1.6037201e+01 -1.4139455e+01\n",
      "  -2.6194773e+01 -1.9126423e+01 -2.5490965e+01 -2.7474239e+01\n",
      "  -2.9802277e-06 -1.9510384e+01]]\n",
      "8: Predicted class index: 8\n",
      "\n",
      "Output tensor: tensor([[-1.0990e+01, -1.3805e+01, -1.3980e+01, -5.9270e+00, -8.9379e+00,\n",
      "         -7.9386e+00, -2.3051e+01, -7.2337e+00, -1.1104e+01, -3.9178e-03]],\n",
      "       grad_fn=<LogSoftmaxBackward0>)\n",
      "Predicted probability distribution: [[-1.0990176e+01 -1.3804950e+01 -1.3979957e+01 -5.9270449e+00\n",
      "  -8.9378567e+00 -7.9385920e+00 -2.3051289e+01 -7.2336569e+00\n",
      "  -1.1104095e+01 -3.9177584e-03]]\n",
      "9: Predicted class index: 9\n",
      "\n"
     ]
    }
   ],
   "source": [
    "\n",
    "# recognize custom made digits\n",
    "import os\n",
    "import cv2\n",
    "import numpy as np\n",
    "\n",
    "image_number = 0\n",
    "while os.path.isfile(f\"digits/digit{image_number}.png\"):\n",
    "    try:\n",
    "        # Load and prepare the image\n",
    "        img = cv2.imread(f\"digits/digit{image_number}.png\")[:,:,0]\n",
    "        \n",
    "        # Resizing to prevent misshaped digits\n",
    "        img = cv2.resize(img, (28, 28))\n",
    "\n",
    "        # Perform thresholding to binarize the image\n",
    "        #_, img = cv2.threshold(img, thresh=128, maxval=255, type=cv2.THRESH_BINARY | cv2.THRESH_OTSU)\n",
    "\n",
    "        img = np.invert(img)\n",
    "        # Convert the prepared image to a PyTorch Tensor\n",
    "        input_tensor = torch.from_numpy(img).float() # convert the data type to float\n",
    "        input_tensor = input_tensor.reshape(-1, 28 * 28)/ 255.0 # faltten tensor into 1D\n",
    "\n",
    "        #print(input_tensor[0])\n",
    "        # Feed the input Tensor to the network and display the prediction\n",
    "        output = net(input_tensor)\n",
    "        print(f\"Output tensor: {output}\")\n",
    "        pred_probs = output.detach().numpy()\n",
    "        pred_class = np.argmax(pred_probs)\n",
    "        print(f\"Predicted probability distribution: {pred_probs}\")\n",
    "        print(f\"{image_number}: Predicted class index: {pred_class}\\n\")\n",
    "\n",
    "    except Exception as e:\n",
    "        print(e)\n",
    "\n",
    "    image_number += 1\n",
    "        "
   ]
  },
  {
   "cell_type": "code",
   "execution_count": 222,
   "id": "fd5e5925-4406-472d-ad37-8022529393f8",
   "metadata": {},
   "outputs": [
    {
     "data": {
      "image/png": "[encoded data removed]",
      "text/plain": [
       "<Figure size 640x480 with 1 Axes>"
      ]
     },
     "metadata": {},
     "output_type": "display_data"
    }
   ],
   "source": [
    "plt.imshow(input_tensor[0].view(28,28))\n",
    "plt.show()"
   ]
  },
  {
   "cell_type": "code",
   "execution_count": 223,
   "id": "7b89cf94-8879-412e-b08f-b44664b7573d",
   "metadata": {},
   "outputs": [
    {
     "name": "stdout",
     "output_type": "stream",
     "text": [
      "tensor([0.0000, 0.0000, 0.0000, 0.0000, 0.0000, 0.0000, 0.0000, 0.0000, 0.0000,\n",
      "        0.0000, 0.0000, 0.0000, 0.0000, 0.0000, 0.0000, 0.0000, 0.0000, 0.0000,\n",
      "        0.0000, 0.0000, 0.0000, 0.0000, 0.0000, 0.0000, 0.0000, 0.0000, 0.0000,\n",
      "        0.0000, 0.0000, 0.0000, 0.0000, 0.0000, 0.0000, 0.0000, 0.0000, 0.0000,\n",
      "        0.0000, 0.0000, 0.0000, 0.0000, 0.0000, 0.0000, 0.0000, 0.0000, 0.0000,\n",
      "        0.0000, 0.0000, 0.0000, 0.0000, 0.0000, 0.0000, 0.0000, 0.0000, 0.0000,\n",
      "        0.0000, 0.0000, 0.0000, 0.0000, 0.0000, 0.0000, 0.0000, 0.0000, 0.0000,\n",
      "        0.0000, 0.0000, 0.0000, 0.0000, 0.0000, 0.0000, 0.0000, 0.0000, 0.0000,\n",
      "        0.0000, 0.0000, 0.0000, 0.0000, 0.0000, 0.0000, 0.0000, 0.0000, 0.0000,\n",
      "        0.0000, 0.0000, 0.0000, 0.0000, 0.0000, 0.0000, 0.0000, 0.0000, 0.0000,\n",
      "        0.0000, 0.0000, 0.0000, 0.0000, 0.0000, 0.0000, 0.0000, 0.0000, 0.0000,\n",
      "        0.0000, 0.0000, 0.0000, 0.0000, 0.0000, 0.0000, 0.0000, 0.0000, 0.0000,\n",
      "        0.0000, 0.0000, 0.0000, 0.0000, 0.0000, 0.0000, 0.0000, 0.0000, 0.0000,\n",
      "        0.0000, 0.0000, 0.0000, 0.0000, 0.0000, 0.1882, 0.2196, 0.0000, 0.0000,\n",
      "        0.0000, 0.0000, 0.0000, 0.0000, 0.0000, 0.0000, 0.0000, 0.0000, 0.0000,\n",
      "        0.0000, 0.0000, 0.0000, 0.0000, 0.0000, 0.0000, 0.0000, 0.0000, 0.0000,\n",
      "        0.0000, 0.0000, 0.0000, 0.2549, 0.3725, 0.2784, 0.4118, 0.5333, 0.4824,\n",
      "        0.4706, 0.5255, 0.5020, 0.5725, 0.6471, 0.0000, 0.0000, 0.0000, 0.0000,\n",
      "        0.0000, 0.0000, 0.0000, 0.0000, 0.0000, 0.0000, 0.0000, 0.0000, 0.0000,\n",
      "        0.0000, 0.0000, 0.0000, 0.0000, 0.3059, 0.4588, 0.4824, 0.5686, 0.6471,\n",
      "        0.5922, 0.5333, 0.5608, 0.6000, 0.6392, 0.6353, 0.5216, 0.0000, 0.0000,\n",
      "        0.0000, 0.0000, 0.0000, 0.0000, 0.0000, 0.0000, 0.0000, 0.0000, 0.0000,\n",
      "        0.0000, 0.0000, 0.0000, 0.0000, 0.2353, 0.5216, 0.5490, 0.5961, 0.5725,\n",
      "        0.5608, 0.5373, 0.4667, 0.4824, 0.6039, 0.7922, 0.7608, 0.6157, 0.4039,\n",
      "        0.0000, 0.0000, 0.0000, 0.0000, 0.0000, 0.0000, 0.0000, 0.0000, 0.0000,\n",
      "        0.0000, 0.0000, 0.0000, 0.0000, 0.0000, 0.4549, 0.6000, 0.5412, 0.5059,\n",
      "        0.3373, 0.4824, 0.4000, 0.2431, 0.0000, 0.2471, 0.5922, 0.6863, 0.7569,\n",
      "        0.6980, 0.3020, 0.0000, 0.0000, 0.0000, 0.0000, 0.0000, 0.0000, 0.0000,\n",
      "        0.0000, 0.0000, 0.0000, 0.0000, 0.0000, 0.0000, 0.4549, 0.5137, 0.4902,\n",
      "        0.3569, 0.0000, 0.0000, 0.0000, 0.0000, 0.0000, 0.0000, 0.2627, 0.6314,\n",
      "        0.7294, 0.6588, 0.4510, 0.3176, 0.0000, 0.0000, 0.0000, 0.0000, 0.0000,\n",
      "        0.0000, 0.0000, 0.0000, 0.0000, 0.0000, 0.0000, 0.0000, 0.6627, 0.5882,\n",
      "        0.4627, 0.1961, 0.0000, 0.0000, 0.0000, 0.0000, 0.0510, 0.4118, 0.3412,\n",
      "        0.5451, 0.6196, 0.6157, 0.4431, 0.2588, 0.0000, 0.0000, 0.0000, 0.0000,\n",
      "        0.0000, 0.0000, 0.0000, 0.0000, 0.0000, 0.0000, 0.0000, 0.4863, 0.5843,\n",
      "        0.6471, 0.6275, 0.2667, 0.0000, 0.0000, 0.0000, 0.0000, 0.3176, 0.5608,\n",
      "        0.5804, 0.7137, 0.5804, 0.5686, 0.6353, 0.4392, 0.0000, 0.0000, 0.0000,\n",
      "        0.0000, 0.0000, 0.0000, 0.0000, 0.0000, 0.0000, 0.0000, 0.0000, 0.0000,\n",
      "        0.4314, 0.5294, 0.5686, 0.3647, 0.0000, 0.0000, 0.0000, 0.0000, 0.3412,\n",
      "        0.6706, 0.5882, 0.4588, 0.5412, 0.5373, 0.6314, 0.5137, 0.0000, 0.0000,\n",
      "        0.0000, 0.0000, 0.0000, 0.0000, 0.0000, 0.0000, 0.0000, 0.0000, 0.0000,\n",
      "        0.0000, 0.4000, 0.5686, 0.5608, 0.5373, 0.1373, 0.0000, 0.0000, 0.4392,\n",
      "        0.4588, 0.5804, 0.6706, 0.5569, 0.5137, 0.5490, 0.6000, 0.4824, 0.0000,\n",
      "        0.0000, 0.0000, 0.0000, 0.0000, 0.0000, 0.0000, 0.0000, 0.0000, 0.0000,\n",
      "        0.0000, 0.0000, 0.0000, 0.4510, 0.5647, 0.5412, 0.6353, 0.5961, 0.4902,\n",
      "        0.5490, 0.5608, 0.5333, 0.5216, 0.0000, 0.3294, 0.5059, 0.5255, 0.4588,\n",
      "        0.0000, 0.0000, 0.0000, 0.0000, 0.0000, 0.0000, 0.0000, 0.0000, 0.0000,\n",
      "        0.0000, 0.0000, 0.0000, 0.0000, 0.2471, 0.5020, 0.6353, 0.6510, 0.5686,\n",
      "        0.5333, 0.6078, 0.6353, 0.5059, 0.0353, 0.0000, 0.2549, 0.5569, 0.5725,\n",
      "        0.5176, 0.0000, 0.0000, 0.0000, 0.0000, 0.0000, 0.0000, 0.0000, 0.0000,\n",
      "        0.0000, 0.0000, 0.0000, 0.0000, 0.0000, 0.0000, 0.2588, 0.4118, 0.5294,\n",
      "        0.4549, 0.4745, 0.4667, 0.3922, 0.2863, 0.0000, 0.0314, 0.4941, 0.6157,\n",
      "        0.5843, 0.4706, 0.0000, 0.0000, 0.0000, 0.0000, 0.0000, 0.0000, 0.0000,\n",
      "        0.0000, 0.0000, 0.0000, 0.0000, 0.0000, 0.0000, 0.0000, 0.0000, 0.0000,\n",
      "        0.0000, 0.0000, 0.0000, 0.0000, 0.0000, 0.0000, 0.0000, 0.1333, 0.4353,\n",
      "        0.5961, 0.6941, 0.2941, 0.0000, 0.0000, 0.0000, 0.0000, 0.0000, 0.0000,\n",
      "        0.0000, 0.0000, 0.0000, 0.0000, 0.0000, 0.0000, 0.0000, 0.0000, 0.0000,\n",
      "        0.0000, 0.0000, 0.0000, 0.0000, 0.0000, 0.0000, 0.0000, 0.1490, 0.5216,\n",
      "        0.5725, 0.5765, 0.6510, 0.2863, 0.0000, 0.0000, 0.0000, 0.0000, 0.0000,\n",
      "        0.0000, 0.0000, 0.0000, 0.0000, 0.0000, 0.0000, 0.0000, 0.0000, 0.0000,\n",
      "        0.0000, 0.0000, 0.0000, 0.0000, 0.0000, 0.0000, 0.0000, 0.0784, 0.4275,\n",
      "        0.5843, 0.6314, 0.5255, 0.2039, 0.0000, 0.0000, 0.0000, 0.0000, 0.0000,\n",
      "        0.0000, 0.0000, 0.0000, 0.0000, 0.0000, 0.0000, 0.0000, 0.0000, 0.0000,\n",
      "        0.0000, 0.0000, 0.0000, 0.0000, 0.0000, 0.0000, 0.0000, 0.2000, 0.5804,\n",
      "        0.5451, 0.6235, 0.5843, 0.4196, 0.0588, 0.0000, 0.0000, 0.0000, 0.0000,\n",
      "        0.0000, 0.0000, 0.0000, 0.0000, 0.0000, 0.0000, 0.0000, 0.0000, 0.0000,\n",
      "        0.0000, 0.0000, 0.0000, 0.0000, 0.0000, 0.0000, 0.0000, 0.1294, 0.6471,\n",
      "        0.7059, 0.5647, 0.5490, 0.4902, 0.1490, 0.0000, 0.0000, 0.0000, 0.0000,\n",
      "        0.0000, 0.0000, 0.0000, 0.0000, 0.0000, 0.0000, 0.0000, 0.0000, 0.0000,\n",
      "        0.0000, 0.0000, 0.0000, 0.0000, 0.0000, 0.0000, 0.0000, 0.0000, 0.5333,\n",
      "        0.5412, 0.6431, 0.6000, 0.3686, 0.0745, 0.0000, 0.0000, 0.0000, 0.0000,\n",
      "        0.0000, 0.0000, 0.0000, 0.0000, 0.0000, 0.0000, 0.0000, 0.0000, 0.0000,\n",
      "        0.0000, 0.0000, 0.0000, 0.0000, 0.0000, 0.0000, 0.0000, 0.0000, 0.0000,\n",
      "        0.5608, 0.5804, 0.6000, 0.4902, 0.0745, 0.0000, 0.0000, 0.0000, 0.0000,\n",
      "        0.0000, 0.0000, 0.0000, 0.0000, 0.0000, 0.0000, 0.0000, 0.0000, 0.0000,\n",
      "        0.0000, 0.0000, 0.0000, 0.0000, 0.0000, 0.0000, 0.0000, 0.0000, 0.0000,\n",
      "        0.0000, 0.0000, 0.4706, 0.3608, 0.1137, 0.0000, 0.0000, 0.0000, 0.0000,\n",
      "        0.0000, 0.0000, 0.0000, 0.0000, 0.0000, 0.0000, 0.0000, 0.0000, 0.0000,\n",
      "        0.0000, 0.0000, 0.0000, 0.0000, 0.0000, 0.0000, 0.0000, 0.0000, 0.0000,\n",
      "        0.0000, 0.0000, 0.0000, 0.3137, 0.0000, 0.0000, 0.0000, 0.0000, 0.0000,\n",
      "        0.0000, 0.0000, 0.0000, 0.0000, 0.0000, 0.0000, 0.0000, 0.0000, 0.0000,\n",
      "        0.0000, 0.0000, 0.0000, 0.0000, 0.0000, 0.0000, 0.0000, 0.0000, 0.0000,\n",
      "        0.0000, 0.0000, 0.0000, 0.0000, 0.0000, 0.0000, 0.0000, 0.0000, 0.0000,\n",
      "        0.0000, 0.0000, 0.0000, 0.0000, 0.0000, 0.0000, 0.0000, 0.0000, 0.0000,\n",
      "        0.0000, 0.0000, 0.0000, 0.0000, 0.0000, 0.0000, 0.0000, 0.0000, 0.0000,\n",
      "        0.0000, 0.0000, 0.0000, 0.0000, 0.0000, 0.0000, 0.0000, 0.0000, 0.0000,\n",
      "        0.0000, 0.0000, 0.0000, 0.0000, 0.0000, 0.0000, 0.0000, 0.0000, 0.0000,\n",
      "        0.0000])\n"
     ]
    }
   ],
   "source": [
    "print(input_tensor[0])"
   ]
  },
  {
   "cell_type": "code",
   "execution_count": 180,
   "id": "5dc0aa4f-baae-4a01-abb9-d09d5a941923",
   "metadata": {},
   "outputs": [
    {
     "name": "stdout",
     "output_type": "stream",
     "text": [
      "tensor([[[0.0000, 0.0000, 0.0000, 0.0000, 0.0000, 0.0000, 0.0000, 0.0000,\n",
      "          0.0000, 0.0000, 0.0000, 0.0000, 0.0000, 0.0000, 0.0000, 0.0000,\n",
      "          0.0000, 0.0000, 0.0000, 0.0000, 0.0000, 0.0000, 0.0000, 0.0000,\n",
      "          0.0000, 0.0000, 0.0000, 0.0000],\n",
      "         [0.0000, 0.0000, 0.0000, 0.0000, 0.0000, 0.0000, 0.0000, 0.0000,\n",
      "          0.0000, 0.0000, 0.0000, 0.0000, 0.0000, 0.0000, 0.0000, 0.0000,\n",
      "          0.0000, 0.0000, 0.0000, 0.0000, 0.0000, 0.0000, 0.0000, 0.0000,\n",
      "          0.0000, 0.0000, 0.0000, 0.0000],\n",
      "         [0.0000, 0.0000, 0.0000, 0.0000, 0.0000, 0.0000, 0.0000, 0.0000,\n",
      "          0.0000, 0.0000, 0.0000, 0.0000, 0.0000, 0.0000, 0.0000, 0.0000,\n",
      "          0.0000, 0.0000, 0.0000, 0.0000, 0.0000, 0.0000, 0.0000, 0.0000,\n",
      "          0.0000, 0.0000, 0.0000, 0.0000],\n",
      "         [0.0000, 0.0000, 0.0000, 0.0000, 0.0000, 0.0000, 0.0000, 0.0000,\n",
      "          0.0000, 0.0000, 0.0000, 0.0000, 0.0000, 0.0000, 0.0000, 0.0000,\n",
      "          0.0000, 0.0000, 0.0000, 0.0000, 0.0000, 0.0000, 0.0000, 0.0000,\n",
      "          0.0000, 0.0000, 0.0000, 0.0000],\n",
      "         [0.0000, 0.0000, 0.0000, 0.0000, 0.0000, 0.0000, 0.0000, 0.0000,\n",
      "          0.0000, 0.0000, 0.0000, 0.0000, 0.0000, 0.0000, 0.0000, 0.0000,\n",
      "          0.0000, 0.0000, 0.0000, 0.0000, 0.0000, 0.0000, 0.0000, 0.0000,\n",
      "          0.0000, 0.0000, 0.0000, 0.0000],\n",
      "         [0.0000, 0.0000, 0.0000, 0.0000, 0.0000, 0.0000, 0.0000, 0.0000,\n",
      "          0.0000, 0.0000, 0.0000, 0.0000, 0.0000, 0.0000, 0.0000, 0.0000,\n",
      "          0.0000, 0.0000, 0.0000, 0.0000, 0.0000, 0.0000, 0.0000, 0.0000,\n",
      "          0.0000, 0.0000, 0.0000, 0.0000],\n",
      "         [0.0000, 0.0000, 0.0000, 0.0000, 0.0000, 0.0000, 0.0000, 0.0000,\n",
      "          0.0000, 0.0000, 0.0000, 0.0000, 0.0000, 0.0000, 0.0000, 0.0000,\n",
      "          0.0000, 0.0000, 0.0000, 0.0000, 0.0000, 0.0000, 0.0000, 0.0000,\n",
      "          0.0000, 0.0000, 0.0000, 0.0000],\n",
      "         [0.0000, 0.0000, 0.0000, 0.0000, 0.0000, 0.0000, 0.0000, 0.4745,\n",
      "          0.9961, 0.9529, 0.3255, 0.2196, 0.0510, 0.0000, 0.0000, 0.0000,\n",
      "          0.0157, 0.2196, 0.0275, 0.0000, 0.0000, 0.0000, 0.0000, 0.0000,\n",
      "          0.0000, 0.0000, 0.0000, 0.0000],\n",
      "         [0.0000, 0.0000, 0.0000, 0.0000, 0.0000, 0.0000, 0.0000, 0.4588,\n",
      "          0.9922, 0.9922, 0.9922, 0.9922, 0.7137, 0.6627, 0.6510, 0.5294,\n",
      "          0.8314, 0.9922, 0.8431, 0.4235, 0.0039, 0.0000, 0.0000, 0.0000,\n",
      "          0.0000, 0.0000, 0.0000, 0.0000],\n",
      "         [0.0000, 0.0000, 0.0000, 0.0000, 0.0000, 0.0000, 0.0000, 0.0314,\n",
      "          0.7922, 0.9922, 0.9922, 0.9922, 0.9922, 0.9922, 0.9922, 0.9922,\n",
      "          0.9922, 0.9922, 0.9922, 0.9922, 0.0784, 0.0000, 0.0000, 0.0000,\n",
      "          0.0000, 0.0000, 0.0000, 0.0000],\n",
      "         [0.0000, 0.0000, 0.0000, 0.0000, 0.0000, 0.0000, 0.0000, 0.1020,\n",
      "          0.9529, 0.9373, 0.5216, 0.5843, 0.9176, 0.9137, 0.9137, 0.9176,\n",
      "          0.9137, 0.9373, 0.9961, 0.9922, 0.0784, 0.0000, 0.0000, 0.0000,\n",
      "          0.0000, 0.0000, 0.0000, 0.0000],\n",
      "         [0.0000, 0.0000, 0.0000, 0.0000, 0.0000, 0.0000, 0.0000, 0.2039,\n",
      "          0.9922, 0.8745, 0.0000, 0.0000, 0.0000, 0.0000, 0.0000, 0.0000,\n",
      "          0.0000, 0.3922, 0.9961, 0.7765, 0.0235, 0.0000, 0.0000, 0.0000,\n",
      "          0.0000, 0.0000, 0.0000, 0.0000],\n",
      "         [0.0000, 0.0000, 0.0000, 0.0000, 0.0000, 0.0000, 0.0000, 0.0078,\n",
      "          0.7137, 0.9843, 0.4471, 0.0000, 0.0000, 0.0000, 0.0000, 0.0000,\n",
      "          0.0314, 0.8314, 0.9922, 0.3294, 0.0000, 0.0000, 0.0000, 0.0000,\n",
      "          0.0000, 0.0000, 0.0000, 0.0000],\n",
      "         [0.0000, 0.0000, 0.0000, 0.0000, 0.0000, 0.0000, 0.0000, 0.0000,\n",
      "          0.4039, 0.9922, 0.6588, 0.0000, 0.0000, 0.0000, 0.0000, 0.0000,\n",
      "          0.0627, 0.9922, 0.9608, 0.1961, 0.0000, 0.0000, 0.0000, 0.0000,\n",
      "          0.0000, 0.0000, 0.0000, 0.0000],\n",
      "         [0.0000, 0.0000, 0.0000, 0.0000, 0.0000, 0.0000, 0.0000, 0.0000,\n",
      "          0.2980, 0.8824, 0.0392, 0.0000, 0.0000, 0.0000, 0.0000, 0.0000,\n",
      "          0.6431, 0.9922, 0.6784, 0.0000, 0.0000, 0.0000, 0.0000, 0.0000,\n",
      "          0.0000, 0.0000, 0.0000, 0.0000],\n",
      "         [0.0000, 0.0000, 0.0000, 0.0000, 0.0000, 0.0000, 0.0000, 0.0000,\n",
      "          0.2980, 0.4314, 0.0000, 0.0000, 0.0000, 0.0000, 0.0000, 0.1843,\n",
      "          0.9569, 0.9922, 0.2078, 0.0000, 0.0000, 0.0000, 0.0000, 0.0000,\n",
      "          0.0000, 0.0000, 0.0000, 0.0000],\n",
      "         [0.0000, 0.0000, 0.0000, 0.0000, 0.0000, 0.0000, 0.0000, 0.0000,\n",
      "          0.0078, 0.0039, 0.0000, 0.0000, 0.0000, 0.0000, 0.0000, 0.2392,\n",
      "          0.9922, 0.8314, 0.0471, 0.0000, 0.0000, 0.0000, 0.0000, 0.0000,\n",
      "          0.0000, 0.0000, 0.0000, 0.0000],\n",
      "         [0.0000, 0.0000, 0.0000, 0.0000, 0.0000, 0.0000, 0.0000, 0.0000,\n",
      "          0.0000, 0.0000, 0.0000, 0.0000, 0.0000, 0.0000, 0.0000, 0.5490,\n",
      "          0.9922, 0.5569, 0.0000, 0.0000, 0.0000, 0.0000, 0.0000, 0.0000,\n",
      "          0.0000, 0.0000, 0.0000, 0.0000],\n",
      "         [0.0000, 0.0000, 0.0000, 0.0000, 0.0000, 0.0000, 0.0000, 0.0000,\n",
      "          0.0000, 0.0000, 0.0000, 0.0000, 0.0000, 0.0000, 0.1059, 0.8588,\n",
      "          0.9804, 0.2549, 0.0000, 0.0000, 0.0000, 0.0000, 0.0000, 0.0000,\n",
      "          0.0000, 0.0000, 0.0000, 0.0000],\n",
      "         [0.0000, 0.0000, 0.0000, 0.0000, 0.0000, 0.0000, 0.0000, 0.0000,\n",
      "          0.0000, 0.0000, 0.0000, 0.0000, 0.0000, 0.0000, 0.4118, 0.9922,\n",
      "          0.9333, 0.0000, 0.0000, 0.0000, 0.0000, 0.0000, 0.0000, 0.0000,\n",
      "          0.0000, 0.0000, 0.0000, 0.0000],\n",
      "         [0.0000, 0.0000, 0.0000, 0.0000, 0.0000, 0.0000, 0.0000, 0.0000,\n",
      "          0.0000, 0.0000, 0.0000, 0.0000, 0.0000, 0.0000, 0.5176, 0.9922,\n",
      "          0.8275, 0.0000, 0.0000, 0.0000, 0.0000, 0.0000, 0.0000, 0.0000,\n",
      "          0.0000, 0.0000, 0.0000, 0.0000],\n",
      "         [0.0000, 0.0000, 0.0000, 0.0000, 0.0000, 0.0000, 0.0000, 0.0000,\n",
      "          0.0000, 0.0000, 0.0000, 0.0000, 0.0000, 0.0196, 0.8196, 0.9961,\n",
      "          0.5059, 0.0000, 0.0000, 0.0000, 0.0000, 0.0000, 0.0000, 0.0000,\n",
      "          0.0000, 0.0000, 0.0000, 0.0000],\n",
      "         [0.0000, 0.0000, 0.0000, 0.0000, 0.0000, 0.0000, 0.0000, 0.0000,\n",
      "          0.0000, 0.0000, 0.0000, 0.0000, 0.0000, 0.1961, 0.9922, 0.9922,\n",
      "          0.1529, 0.0000, 0.0000, 0.0000, 0.0000, 0.0000, 0.0000, 0.0000,\n",
      "          0.0000, 0.0000, 0.0000, 0.0000],\n",
      "         [0.0000, 0.0000, 0.0000, 0.0000, 0.0000, 0.0000, 0.0000, 0.0000,\n",
      "          0.0000, 0.0000, 0.0000, 0.0000, 0.0000, 0.4078, 0.9922, 0.7765,\n",
      "          0.0118, 0.0000, 0.0000, 0.0000, 0.0000, 0.0000, 0.0000, 0.0000,\n",
      "          0.0000, 0.0000, 0.0000, 0.0000],\n",
      "         [0.0000, 0.0000, 0.0000, 0.0000, 0.0000, 0.0000, 0.0000, 0.0000,\n",
      "          0.0000, 0.0000, 0.0000, 0.0000, 0.0000, 0.5843, 0.9922, 0.7608,\n",
      "          0.0000, 0.0000, 0.0000, 0.0000, 0.0000, 0.0000, 0.0000, 0.0000,\n",
      "          0.0000, 0.0000, 0.0000, 0.0000],\n",
      "         [0.0000, 0.0000, 0.0000, 0.0000, 0.0000, 0.0000, 0.0000, 0.0000,\n",
      "          0.0000, 0.0000, 0.0000, 0.0000, 0.0000, 0.5882, 0.9922, 0.7608,\n",
      "          0.0000, 0.0000, 0.0000, 0.0000, 0.0000, 0.0000, 0.0000, 0.0000,\n",
      "          0.0000, 0.0000, 0.0000, 0.0000],\n",
      "         [0.0000, 0.0000, 0.0000, 0.0000, 0.0000, 0.0000, 0.0000, 0.0000,\n",
      "          0.0000, 0.0000, 0.0000, 0.0000, 0.0000, 0.5843, 0.9922, 0.7569,\n",
      "          0.0000, 0.0000, 0.0000, 0.0000, 0.0000, 0.0000, 0.0000, 0.0000,\n",
      "          0.0000, 0.0000, 0.0000, 0.0000],\n",
      "         [0.0000, 0.0000, 0.0000, 0.0000, 0.0000, 0.0000, 0.0000, 0.0000,\n",
      "          0.0000, 0.0000, 0.0000, 0.0000, 0.0000, 0.0000, 0.0000, 0.0000,\n",
      "          0.0000, 0.0000, 0.0000, 0.0000, 0.0000, 0.0000, 0.0000, 0.0000,\n",
      "          0.0000, 0.0000, 0.0000, 0.0000]]])\n"
     ]
    }
   ],
   "source": [
    "print(X[0])"
   ]
  },
  {
   "cell_type": "code",
   "execution_count": null,
   "id": "7fcd59c8-dcaf-45f2-8e4f-3a779d4de184",
   "metadata": {},
   "outputs": [],
   "source": []
  }
 ],
 "metadata": {
  "kernelspec": {
   "display_name": "Python 3 (ipykernel)",
   "language": "python",
   "name": "python3"
  },
  "language_info": {
   "codemirror_mode": {
    "name": "ipython",
    "version": 3
   },
   "file_extension": ".py",
   "mimetype": "text/x-python",
   "name": "python",
   "nbconvert_exporter": "python",
   "pygments_lexer": "ipython3",
   "version": "3.11.9"
  }
 },
 "nbformat": 4,
 "nbformat_minor": 5
}
