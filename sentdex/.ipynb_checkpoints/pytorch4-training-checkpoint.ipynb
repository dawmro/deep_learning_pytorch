{
 "cells": [
  {
   "cell_type": "code",
   "execution_count": 236,
   "id": "49375755-b5d4-4600-be65-be6a44ee538f",
   "metadata": {},
   "outputs": [],
   "source": [
    "# TODO building neural network\n",
    "\n",
    "import torch\n",
    "import torchvision\n",
    "from torchvision import transforms, datasets\n",
    "\n",
    "train = datasets.MNIST(\"\", train=True, download=True, transform = transforms.Compose([transforms.ToTensor()]))\n",
    "test = datasets.MNIST(\"\", train=False, download=True, transform = transforms.Compose([transforms.ToTensor()]))\n",
    "\n",
    "trainset = torch.utils.data.DataLoader(train, batch_size=10, shuffle=True)\n",
    "testset = torch.utils.data.DataLoader(train, batch_size=10, shuffle=True)"
   ]
  },
  {
   "cell_type": "code",
   "execution_count": 237,
   "id": "7e4c68d4-68b1-41aa-9863-31135b77f403",
   "metadata": {},
   "outputs": [],
   "source": [
    "import torch.nn as nn\n",
    "import torch.nn.functional as F"
   ]
  },
  {
   "cell_type": "code",
   "execution_count": 238,
   "id": "3134620c-7a03-4448-8764-15dc2ef1456c",
   "metadata": {},
   "outputs": [
    {
     "name": "stdout",
     "output_type": "stream",
     "text": [
      "Model's state_dict:\n",
      "fc1.weight \t torch.Size([64, 784])\n",
      "fc1.bias \t torch.Size([64])\n",
      "fc2.weight \t torch.Size([64, 64])\n",
      "fc2.bias \t torch.Size([64])\n",
      "fc3.weight \t torch.Size([64, 64])\n",
      "fc3.bias \t torch.Size([64])\n",
      "fc4.weight \t torch.Size([10, 64])\n",
      "fc4.bias \t torch.Size([10])\n",
      "Optimizer's state_dict:\n",
      "state \t {}\n",
      "param_groups \t [{'lr': 0.001, 'betas': (0.9, 0.999), 'eps': 1e-08, 'weight_decay': 0, 'amsgrad': False, 'maximize': False, 'foreach': None, 'capturable': False, 'differentiable': False, 'fused': None, 'params': [0, 1, 2, 3, 4, 5, 6, 7]}]\n",
      "Net(\n",
      "  (fc1): Linear(in_features=784, out_features=64, bias=True)\n",
      "  (fc2): Linear(in_features=64, out_features=64, bias=True)\n",
      "  (fc3): Linear(in_features=64, out_features=64, bias=True)\n",
      "  (fc4): Linear(in_features=64, out_features=10, bias=True)\n",
      ")\n"
     ]
    }
   ],
   "source": [
    "class Net(nn.Module):\n",
    "    def __init__(self):\n",
    "        super(Net, self).__init__()\n",
    "        self.fc1 = nn.Linear(28*28, 64)\n",
    "        self.fc2 = nn.Linear(64, 64)\n",
    "        self.fc3 = nn.Linear(64, 64)\n",
    "        self.fc4 = nn.Linear(64, 10)\n",
    "\n",
    "    def forward(self, x):\n",
    "        x = F.relu(self.fc1(x))\n",
    "        x = F.relu(self.fc2(x))\n",
    "        x = F.relu(self.fc3(x))\n",
    "        x = self.fc4(x)\n",
    "        return F.log_softmax(x, dim=1)\n",
    "        \n",
    "# Initialize model\n",
    "net = Net()\n",
    "\n",
    "# Initialize optimizer\n",
    "import torch.optim as optim\n",
    "optimizer = optim.Adam(net.parameters(), lr=0.001)\n",
    "\n",
    "# Print model's state_dict\n",
    "print(\"Model's state_dict:\")\n",
    "for param_tensor in net.state_dict():\n",
    "    print(param_tensor, \"\\t\", net.state_dict()[param_tensor].size())\n",
    "\n",
    "# Print optimizer's state_dict\n",
    "print(\"Optimizer's state_dict:\")\n",
    "for var_name in optimizer.state_dict():\n",
    "    print(var_name, \"\\t\", optimizer.state_dict()[var_name])\n",
    "\n",
    "\n",
    "print(net)"
   ]
  },
  {
   "cell_type": "code",
   "execution_count": 239,
   "id": "e45c5c67-6bd0-40e4-939a-848d8685e28b",
   "metadata": {},
   "outputs": [
    {
     "name": "stdout",
     "output_type": "stream",
     "text": [
      "tensor(0.1540, grad_fn=<NllLossBackward0>)\n",
      "tensor(0.2752, grad_fn=<NllLossBackward0>)\n",
      "tensor(0.0816, grad_fn=<NllLossBackward0>)\n",
      "tensor(0.0048, grad_fn=<NllLossBackward0>)\n",
      "tensor(0.0144, grad_fn=<NllLossBackward0>)\n",
      "tensor(0.0021, grad_fn=<NllLossBackward0>)\n",
      "tensor(0.0004, grad_fn=<NllLossBackward0>)\n",
      "tensor(0.0016, grad_fn=<NllLossBackward0>)\n",
      "tensor(0.0009, grad_fn=<NllLossBackward0>)\n",
      "tensor(1.1002e-05, grad_fn=<NllLossBackward0>)\n"
     ]
    }
   ],
   "source": [
    "\n",
    "\n",
    "EPOCHS = 10\n",
    "\n",
    "for epoch in range(EPOCHS):\n",
    "    for data in trainset:\n",
    "        X, y = data\n",
    "        net.zero_grad()\n",
    "        output = net(X.view(-1, 28*28))\n",
    "        loss = F.nll_loss(output, y)\n",
    "        loss.backward()\n",
    "        optimizer.step()\n",
    "    print(loss)"
   ]
  },
  {
   "cell_type": "code",
   "execution_count": 240,
   "id": "d6a1935f-a095-4138-bc56-db30d32f140b",
   "metadata": {},
   "outputs": [
    {
     "name": "stdout",
     "output_type": "stream",
     "text": [
      "Accuracy:  0.991\n"
     ]
    }
   ],
   "source": [
    "# check how good is network\n",
    "correct = 0\n",
    "total = 0\n",
    "\n",
    "with torch.no_grad():\n",
    "    for data in trainset:\n",
    "        X, y = data\n",
    "        output = net(X.view(-1, 28*28))\n",
    "        for idx, i in enumerate(output):\n",
    "            if torch.argmax(i) == y[idx]:\n",
    "                correct += 1\n",
    "            total += 1\n",
    "\n",
    "print(\"Accuracy: \", round(correct/total, 3))"
   ]
  },
  {
   "cell_type": "code",
   "execution_count": 241,
   "id": "e7af0c12-d915-439d-a280-943e9dee1a4e",
   "metadata": {},
   "outputs": [],
   "source": [
    "# save model to disk\n",
    "import time\n",
    "PATH = f\"MNIST_trained_model-{EPOCHS}_epochs-{int(time.time())}\"\n",
    "torch.save(net.state_dict(), PATH)"
   ]
  },
  {
   "cell_type": "code",
   "execution_count": 242,
   "id": "92d04d40-b8b8-4ba9-b6ff-a1f96a409127",
   "metadata": {},
   "outputs": [
    {
     "data": {
      "text/plain": [
       "Net(\n",
       "  (fc1): Linear(in_features=784, out_features=64, bias=True)\n",
       "  (fc2): Linear(in_features=64, out_features=64, bias=True)\n",
       "  (fc3): Linear(in_features=64, out_features=64, bias=True)\n",
       "  (fc4): Linear(in_features=64, out_features=10, bias=True)\n",
       ")"
      ]
     },
     "execution_count": 242,
     "metadata": {},
     "output_type": "execute_result"
    }
   ],
   "source": [
    "net = Net()\n",
    "MODEL_NAME = \"MNIST_trained_model-10_epochs-1718478650\"\n",
    "net.load_state_dict(torch.load(MODEL_NAME))\n",
    "net.eval()"
   ]
  },
  {
   "cell_type": "code",
   "execution_count": 243,
   "id": "6f3ab926-fd43-4af2-9fca-9128e164658c",
   "metadata": {},
   "outputs": [
    {
     "data": {
      "image/png": "[encoded data removed]",
      "text/plain": [
       "<Figure size 640x480 with 1 Axes>"
      ]
     },
     "metadata": {},
     "output_type": "display_data"
    }
   ],
   "source": [
    "import matplotlib.pyplot as plt\n",
    "plt.imshow(X[0].view(28,28))\n",
    "plt.show()\n",
    "           "
   ]
  },
  {
   "cell_type": "code",
   "execution_count": 244,
   "id": "43bef8c7-cbc2-48e9-86ad-600a96772cb5",
   "metadata": {},
   "outputs": [
    {
     "name": "stdout",
     "output_type": "stream",
     "text": [
      "tensor(0)\n"
     ]
    }
   ],
   "source": [
    "print(torch.argmax(net(X[0].view(-1, 28*28))[0]))"
   ]
  },
  {
   "cell_type": "code",
   "execution_count": null,
   "id": "f8479846-1b6b-4d27-a5f2-7fe560e4a173",
   "metadata": {
    "scrolled": true
   },
   "outputs": [],
   "source": [
    "\n",
    "# recognize custom made digits\n",
    "import os\n",
    "import cv2\n",
    "import numpy as np\n",
    "\n",
    "image_number = 0\n",
    "while os.path.isfile(f\"digits/digit{image_number}.png\"):\n",
    "    try:\n",
    "        # Load and prepare the image\n",
    "        img = cv2.imread(f\"digits/digit{image_number}.png\")[:,:,0]\n",
    "\n",
    "        # Resizing to prevent misshaped digits\n",
    "        img = cv2.resize(img, (28, 28))\n",
    "\n",
    "        # Perform thresholding to binarize the image\n",
    "        #_, img = cv2.threshold(img, thresh=128, maxval=255, type=cv2.THRESH_BINARY | cv2.THRESH_OTSU)\n",
    "\n",
    "        img = np.invert(img)\n",
    "        # Convert the prepared image to a PyTorch Tensor\n",
    "        input_tensor = torch.from_numpy(img).float() # convert the data type to float\n",
    "        input_tensor = input_tensor.reshape(-1, 28 * 28)/ 255.0 # faltten tensor into 1D\n",
    "\n",
    "        #print(input_tensor[0])\n",
    "        # Feed the input Tensor to the network and display the prediction\n",
    "        output = net(input_tensor)\n",
    "        print(f\"Output tensor: {output}\")\n",
    "        pred_probs = output.detach().numpy()\n",
    "        pred_class = np.argmax(pred_probs)\n",
    "        print(f\"Predicted probability distribution: {pred_probs}\")\n",
    "        print(f\"{image_number}: Predicted class index: {pred_class}\\n\")\n",
    "\n",
    "    except Exception as e:\n",
    "        print(e)\n",
    "\n",
    "    image_number += 1\n",
    "        "
   ]
  },
  {
   "cell_type": "code",
   "execution_count": null,
   "id": "fd5e5925-4406-472d-ad37-8022529393f8",
   "metadata": {
    "scrolled": true
   },
   "outputs": [],
   "source": [
    "plt.imshow(input_tensor[0].view(28,28))\n",
    "plt.show()"
   ]
  },
  {
   "cell_type": "code",
   "execution_count": null,
   "id": "7b89cf94-8879-412e-b08f-b44664b7573d",
   "metadata": {
    "scrolled": true
   },
   "outputs": [],
   "source": [
    "print(input_tensor[0])"
   ]
  },
  {
   "cell_type": "code",
   "execution_count": null,
   "id": "f1648761-180b-4094-9334-bcb29fd0213a",
   "metadata": {},
   "outputs": [],
   "source": [
    "plt.imshow(X[0].view(28,28))\n",
    "plt.show()"
   ]
  },
  {
   "cell_type": "code",
   "execution_count": null,
   "id": "5dc0aa4f-baae-4a01-abb9-d09d5a941923",
   "metadata": {
    "scrolled": true
   },
   "outputs": [],
   "source": [
    "print(X[0])"
   ]
  },
  {
   "cell_type": "code",
   "execution_count": 410,
   "id": "bd28e373-fd73-4a6c-ba86-64dcf640ad6e",
   "metadata": {},
   "outputs": [],
   "source": [
    "# clasify custom made digits from gradio sketchpad WIP\n",
    "\n",
    "import io\n",
    "import cv2\n",
    "import numpy as np\n",
    "\n",
    "def classify_sketch(sketch):\n",
    "    sketch = np.moveaxis(np.array(sketch['layers']), source=-1, destination=0)\n",
    "    if len(sketch.shape) == 4:\n",
    "        sketch = sketch[:3]\n",
    "    sketch = cv2.merge([sketch]*3)  # Ensure sketch has 3 channels\n",
    "\n",
    "    mem_file = io.BytesIO()\n",
    "    rgb_sketch = cv2.cvtColor(sketch, cv2.COLOR_RGBA2BGR)\n",
    "    result, encimg = cv2.imencode(\".png\", rgb_sketch)\n",
    "    encoded_bytes = cv2.imencode(\".png\", rgb_sketch)[1]\n",
    "    memory_buffer = io.BytesIO(encoded_bytes)\n",
    "    memory_buffer.seek(0)\n",
    "\n",
    "    opencv_img = cv2.imdecode(np.frombuffer(memory_buffer.getvalue(), dtype=np.uint8), cv2.IMREAD_UNCHANGED)\n",
    "    pil_img = Image.fromarray(opencv_img)\n",
    "\n",
    "    sketch_filename = f'temp_sketch_{pil_img.width}_{pil_img.height}.png'\n",
    "    pil_img.save(sketch_filename)\n",
    "\n",
    "    processed_sketch = cv2.imread(sketch_filename, cv2.IMREAD_GRAYSCALE)\n",
    "    processed_sketch = cv2.resize(processed_sketch, (28, 28)).flatten() / 255.0\n",
    "    input_tensor = torch.from_numpy(processed_sketch).float().unsqueeze(0)\n",
    "\n",
    "\n",
    "    output = net(input_tensor)\n",
    "    print(f\"Output tensor: {output}\")\n",
    "    pred_probs = output.detach().numpy()\n",
    "    pred_class = np.argmax(pred_probs)\n",
    "    print(f\"Predicted probability distribution: {pred_probs}\")\n",
    "    print(f\"{image_number}: Predicted class index: {pred_class}\\n\")\n",
    "\n",
    "    #os.remove(sketch_filename)\n"
   ]
  },
  {
   "cell_type": "code",
   "execution_count": 411,
   "id": "de973d3d-bb42-4712-abef-09d0b578b02b",
   "metadata": {},
   "outputs": [
    {
     "name": "stdout",
     "output_type": "stream",
     "text": [
      "Running on local URL:  http://127.0.0.1:7949\n",
      "\n",
      "To create a public link, set `share=True` in `launch()`.\n"
     ]
    },
    {
     "data": {
      "text/html": [
       "<div><iframe src=\"http://127.0.0.1:7949/\" width=\"100%\" height=\"500\" allow=\"autoplay; camera; microphone; clipboard-read; clipboard-write;\" frameborder=\"0\" allowfullscreen></iframe></div>"
      ],
      "text/plain": [
       "<IPython.core.display.HTML object>"
      ]
     },
     "metadata": {},
     "output_type": "display_data"
    },
    {
     "data": {
      "text/plain": []
     },
     "execution_count": 411,
     "metadata": {},
     "output_type": "execute_result"
    },
    {
     "name": "stderr",
     "output_type": "stream",
     "text": [
      "Traceback (most recent call last):\n",
      "  File \"C:\\Users\\T3500\\miniconda3\\envs\\pytorchenv\\Lib\\site-packages\\gradio\\queueing.py\", line 532, in process_events\n",
      "    response = await route_utils.call_process_api(\n",
      "               ^^^^^^^^^^^^^^^^^^^^^^^^^^^^^^^^^^^\n",
      "  File \"C:\\Users\\T3500\\miniconda3\\envs\\pytorchenv\\Lib\\site-packages\\gradio\\route_utils.py\", line 276, in call_process_api\n",
      "    output = await app.get_blocks().process_api(\n",
      "             ^^^^^^^^^^^^^^^^^^^^^^^^^^^^^^^^^^^\n",
      "  File \"C:\\Users\\T3500\\miniconda3\\envs\\pytorchenv\\Lib\\site-packages\\gradio\\blocks.py\", line 1928, in process_api\n",
      "    result = await self.call_function(\n",
      "             ^^^^^^^^^^^^^^^^^^^^^^^^^\n",
      "  File \"C:\\Users\\T3500\\miniconda3\\envs\\pytorchenv\\Lib\\site-packages\\gradio\\blocks.py\", line 1514, in call_function\n",
      "    prediction = await anyio.to_thread.run_sync(\n",
      "                 ^^^^^^^^^^^^^^^^^^^^^^^^^^^^^^^\n",
      "  File \"C:\\Users\\T3500\\miniconda3\\envs\\pytorchenv\\Lib\\site-packages\\anyio\\to_thread.py\", line 56, in run_sync\n",
      "    return await get_async_backend().run_sync_in_worker_thread(\n",
      "           ^^^^^^^^^^^^^^^^^^^^^^^^^^^^^^^^^^^^^^^^^^^^^^^^^^^^\n",
      "  File \"C:\\Users\\T3500\\miniconda3\\envs\\pytorchenv\\Lib\\site-packages\\anyio\\_backends\\_asyncio.py\", line 2134, in run_sync_in_worker_thread\n",
      "    return await future\n",
      "           ^^^^^^^^^^^^\n",
      "  File \"C:\\Users\\T3500\\miniconda3\\envs\\pytorchenv\\Lib\\site-packages\\anyio\\_backends\\_asyncio.py\", line 851, in run\n",
      "    result = context.run(func, *args)\n",
      "             ^^^^^^^^^^^^^^^^^^^^^^^^\n",
      "  File \"C:\\Users\\T3500\\miniconda3\\envs\\pytorchenv\\Lib\\site-packages\\gradio\\utils.py\", line 832, in wrapper\n",
      "    response = f(*args, **kwargs)\n",
      "               ^^^^^^^^^^^^^^^^^^\n",
      "  File \"C:\\Users\\T3500\\AppData\\Local\\Temp\\ipykernel_185636\\1649727739.py\", line 9, in classify_sketch\n",
      "    sketch = cv2.add(sketch, layer['data'][0]['content'])\n",
      "                             ~~~~~^^^^^^^^\n",
      "IndexError: only integers, slices (`:`), ellipsis (`...`), numpy.newaxis (`None`) and integer or boolean arrays are valid indices\n"
     ]
    }
   ],
   "source": [
    "label = gr.Label(num_top_classes=3)\n",
    "interface = gr.Interface(fn=classify_sketch, inputs=\"sketchpad\", outputs=label)\n",
    "interface.launch()"
   ]
  },
  {
   "cell_type": "code",
   "execution_count": null,
   "id": "45ebaf88-0617-40a3-a65c-9c45f611397e",
   "metadata": {},
   "outputs": [],
   "source": [
    "\n"
   ]
  }
 ],
 "metadata": {
  "kernelspec": {
   "display_name": "Python 3 (ipykernel)",
   "language": "python",
   "name": "python3"
  },
  "language_info": {
   "codemirror_mode": {
    "name": "ipython",
    "version": 3
   },
   "file_extension": ".py",
   "mimetype": "text/x-python",
   "name": "python",
   "nbconvert_exporter": "python",
   "pygments_lexer": "ipython3",
   "version": "3.11.9"
  }
 },
 "nbformat": 4,
 "nbformat_minor": 5
}
