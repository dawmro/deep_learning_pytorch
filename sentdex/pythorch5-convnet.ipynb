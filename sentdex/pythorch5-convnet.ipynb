{
 "cells": [
  {
   "cell_type": "code",
   "execution_count": 3,
   "id": "4adfa06e-8268-4d4e-ad06-1941f9c326fc",
   "metadata": {},
   "outputs": [],
   "source": [
    "import os\n",
    "import cv2\n",
    "import numpy as np\n",
    "from tqdm import tqdm"
   ]
  },
  {
   "cell_type": "code",
   "execution_count": 16,
   "id": "adb1a7dd-2474-49dd-9e49-f41774ff3b1b",
   "metadata": {},
   "outputs": [],
   "source": [
    "REBUILD_DATA = False\n",
    "\n",
    "class DogsVSCats():\n",
    "    IMG_SIZE = 50\n",
    "    CATS = \"PetImages/Cat\"\n",
    "    DOGS = \"PetImages/Dog\"\n",
    "    LABELS = {CATS: 0, DOGS: 1}\n",
    "    training_data = []\n",
    "    catcount = 0\n",
    "    dogcount = 0\n",
    "\n",
    "    def make_training_data(self):\n",
    "        for label in self.LABELS:\n",
    "            print(label)\n",
    "            for f in tqdm(os.listdir(label)):\n",
    "                try:\n",
    "                    path = os.path.join(label, f)\n",
    "                    img = cv2.imread(path, cv2.IMREAD_GRAYSCALE)\n",
    "                    img = cv2.resize(img, (self.IMG_SIZE, self.IMG_SIZE))\n",
    "                    img = img / 255.0  # Normalize image intensity\n",
    "                    self.training_data.append([np.array(img), np.eye(2)[self.LABELS[label]]])\n",
    "    \n",
    "                    if label == self.CATS:\n",
    "                        self.catcount += 1\n",
    "                    elif label == self.DOGS:\n",
    "                        self.dogcount += 1\n",
    "                except Exception as e:\n",
    "                    print(f\"Encountered an error while processing item '{f}' at directory '{label}', skipping...\")\n",
    "                    print(e)\n",
    "\n",
    "        np.random.shuffle(self.training_data)\n",
    "        np.save(\"training_data.npy\", np.array(self.training_data, dtype=object))\n",
    "        print(\"Cats: \", self.catcount)\n",
    "        print(\"Dogs: \", self.dogcount)"
   ]
  },
  {
   "cell_type": "code",
   "execution_count": 17,
   "id": "60d2c5c5-437d-4b5a-a7ad-77fae7716914",
   "metadata": {},
   "outputs": [],
   "source": [
    "if REBUILD_DATA:\n",
    "    dogsvcats = DogsVSCats()\n",
    "    dogsvcats.make_training_data()"
   ]
  },
  {
   "cell_type": "code",
   "execution_count": 19,
   "id": "9fa3813a-6914-4b6d-9763-0d833ec091f7",
   "metadata": {},
   "outputs": [],
   "source": [
    "training_data = np.load(\"training_data.npy\", allow_pickle=True)"
   ]
  },
  {
   "cell_type": "code",
   "execution_count": 20,
   "id": "b6753085-b404-4313-af41-ee588505c8a6",
   "metadata": {},
   "outputs": [
    {
     "name": "stdout",
     "output_type": "stream",
     "text": [
      "24946\n"
     ]
    }
   ],
   "source": [
    "print(len(training_data))"
   ]
  },
  {
   "cell_type": "code",
   "execution_count": 24,
   "id": "16e12835-8a2c-42e2-9192-825c7b4bacd5",
   "metadata": {},
   "outputs": [
    {
     "name": "stdout",
     "output_type": "stream",
     "text": [
      "[array([[0.09019608, 0.08627451, 0.09019608, ..., 0.05882353, 0.05490196,\n",
      "         0.05098039],\n",
      "        [0.09411765, 0.09019608, 0.09019608, ..., 0.0627451 , 0.05882353,\n",
      "         0.05490196],\n",
      "        [0.09411765, 0.09019608, 0.09019608, ..., 0.0627451 , 0.0627451 ,\n",
      "         0.05882353],\n",
      "        ...,\n",
      "        [0.42352941, 0.45882353, 0.47843137, ..., 0.39215686, 0.34901961,\n",
      "         0.25882353],\n",
      "        [0.41568627, 0.41960784, 0.4627451 , ..., 0.34117647, 0.19215686,\n",
      "         0.27843137],\n",
      "        [0.41568627, 0.40784314, 0.43921569, ..., 0.27843137, 0.31764706,\n",
      "         0.3372549 ]])\n",
      " array([0., 1.])]\n"
     ]
    }
   ],
   "source": [
    "print(training_data[2])"
   ]
  },
  {
   "cell_type": "code",
   "execution_count": 23,
   "id": "ac08a54b-c459-41db-a432-0cb3259dca0d",
   "metadata": {},
   "outputs": [
    {
     "data": {
      "image/png": "[encoded data removed]",
      "text/plain": [
       "<Figure size 640x480 with 1 Axes>"
      ]
     },
     "metadata": {},
     "output_type": "display_data"
    }
   ],
   "source": [
    "import matplotlib.pyplot as plt\n",
    "\n",
    "plt.imshow(training_data[2][0], cmap=\"gray\")\n",
    "plt.show()"
   ]
  },
  {
   "cell_type": "code",
   "execution_count": null,
   "id": "b42d7b8c-9ae6-4aff-92c8-b9f1bf25cb4d",
   "metadata": {},
   "outputs": [],
   "source": []
  }
 ],
 "metadata": {
  "kernelspec": {
   "display_name": "Python 3 (ipykernel)",
   "language": "python",
   "name": "python3"
  },
  "language_info": {
   "codemirror_mode": {
    "name": "ipython",
    "version": 3
   },
   "file_extension": ".py",
   "mimetype": "text/x-python",
   "name": "python",
   "nbconvert_exporter": "python",
   "pygments_lexer": "ipython3",
   "version": "3.11.9"
  }
 },
 "nbformat": 4,
 "nbformat_minor": 5
}
